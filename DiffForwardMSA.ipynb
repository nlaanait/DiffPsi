{
 "cells": [
  {
   "cell_type": "markdown",
   "metadata": {},
   "source": [
    "# Gist  \n",
    "\n",
    "### 1. Problem\n",
    "Below I am attempting a differentiable programming solution to what is arguably the oldest and most challenging inverse problem.   \n",
    "The governing equation of the inverse problem we are interested in is none other than the (inhomogeneous) Hemlholtz Equation:  \n",
    "\n",
    "$$\\begin{equation}\n",
    "\\label{eq:helm}\n",
    "\\nabla^2\\Psi(\\mathbf{r}) + k^2 \\psi(\\mathbf{r}) = -i \\sigma V(\\mathbf{r})\\psi(\\mathbf{r})\n",
    "\\end{equation}\n",
    "$$\n",
    "where $\\Psi$ is the wavefield, $V$ is the scattering potential, $k^2$ is the wavevector, and $\\sigma$ is an interaction strength (or coupling constant).    \n",
    "The equation above is generally applicable to all forms of radiation (lasers, x-rays...) as well as matter waves (high-energy electron beams, neutrons, etc...).  \n",
    "In its most general formulation, $\\Psi$ is a vector-valued complex field (i.e. to encode polarization states) or in the case of matter waves $\\Psi$ is a 4-d spinor. Here, we will ignore polarization states, etc... s.t. we are dealing with scalar fields:  \n",
    "$$\\Psi: \\mathbb{R}^3 \\rightarrow \\mathbb{C}, \\quad V: \\mathbb{R}^3 \\rightarrow \\mathbb{R}$$ \n",
    "\n",
    "The inverse problem we want to solve is given some data $D = ||\\Psi_\\textrm{out}||^2$, we would like to recover $V$ (and $\\Psi_\\textrm{in}$, most researchers only care about $V$ 🤪).  \n",
    "Multiple variants of this problem arise in many fields and contexts. For instance, in imaging and sensing this inverse problem is known as object reconstruction (i.e. $V$) and in (diffraction) physics/optics it is known as the phase problem ($\\arg(\\Psi_\\textrm{out})$ is not a measurable quantity). \n",
    "\n",
    "### 2. Digression #####\n",
    "-----\n",
    "```There is tons of approaches to solve this inverse problem (e.g. holography, tomography,) and some like Gabor and Zernike were awarded Nobel Prizes for their work on this problem ... afterall it is the **original inverse problem!**  \n",
    "So, why bother finding yet another solution to this problem? well... (spoiler alert!!!🚒) none of the above solutions *actually work* in a general sense!  \n",
    "And by \"work in a general sense\" I mean: \n",
    "1. Algo: here's the associated algorithm \n",
    "2. Data: feed it your data \n",
    "3. Solution: out comes out get a pretty good solution. 🎊\n",
    "\n",
    "In fact, researchers, engineers, and companies have spent decades building instruments (CT scanners, microscopes, lightsources, etc...) to make the reconstruction of V easier (or in some cases, like a microscope, trivial!).   \n",
    "\n",
    "```\n",
    "-----\n",
    "\n",
    "### 3. Paraxial Approximation and the Multi-Slice Algorithm\n",
    "In what follows we use the paraxial approximation to the inhomogeneous Helmholtz equation:\n",
    "\n",
    "$$\\begin{equation}\n",
    "\\frac{\\partial \\Psi(\\mathbf{r}_\\perp)}{\\partial z} = \\frac{i \\lambda}{4 \\pi} \\nabla_{\\perp}^2 \\psi(\\mathbf{r}_\\perp) + i \\sigma V(\\mathbf{r})\\psi(\\mathbf{r}_\\perp)\n",
    "\\end{equation}\n",
    "$$\n"
   ]
  },
  {
   "cell_type": "code",
   "execution_count": 56,
   "metadata": {},
   "outputs": [
    {
     "name": "stderr",
     "output_type": "stream",
     "text": [
      "WARNING: replacing module MSA.\n"
     ]
    }
   ],
   "source": [
    "using CuArrays, CUDAdrv, CUDAnative\n",
    "using LinearAlgebra, Flux, PyPlot\n",
    "using Flux: Optimise\n",
    "using Zygote\n",
    "using FFTW\n",
    "\n",
    "# FFTW.set_num_threads(40)\n",
    "\n",
    "# MSA imports\n",
    "include(\"MSA.jl\")\n",
    "using .MSA\n",
    "\n",
    "# CUDAnative.device!(3)\n",
    "# CuArrays.allowscalar(true)"
   ]
  },
  {
   "cell_type": "markdown",
   "metadata": {},
   "source": [
    "### Utils\n"
   ]
  },
  {
   "cell_type": "code",
   "execution_count": 47,
   "metadata": {},
   "outputs": [
    {
     "data": {
      "text/plain": [
       "sgd_update! (generic function with 2 methods)"
      ]
     },
     "execution_count": 47,
     "metadata": {},
     "output_type": "execute_result"
    }
   ],
   "source": [
    "mutable struct ForwardModel\n",
    "    psi::AbstractArray\n",
    "    potential::AbstractArray\n",
    "    name::String\n",
    "end\n",
    "\n",
    "function forward(model::ForwardModel)\n",
    "    psi_buff = Zygote.Buffer(model.potential)\n",
    "    psi_buff[:,:,:] = model.psi[:,:,:]\n",
    "    psi_buff = MSA.multislice(model.psi, psi_buff, model.potential, 1, 1, 1)\n",
    "    model.psi = copy(psi_buff)\n",
    "    psi_out = model.psi[:,:,end]\n",
    "    return abs2.(psi_out)\n",
    "end\n",
    "\n",
    "function loss(model::ForwardModel, psi2_trg)\n",
    "    res = norm(forward(model) .- psi2_trg, 2)\n",
    "    return res\n",
    "end\n",
    "\n",
    "function sgd_update!(model::ForwardModel, grads, η = 0.01; verbose=false)\n",
    "    if verbose \n",
    "        @info(\"Gradients:\n",
    "            ∂V=$(round.(grads.potential; digits=2))\n",
    "            ∂ѱ=$(round.(grads.psi; digits=2))\")\n",
    "        @info(\"before sgd update:\n",
    "        V'=$(round.(model.potential; digits=2))\n",
    "        ѱ'=$(round.(model.psi; digits=2))\")\n",
    "    end\n",
    "    model.psi .-= η .* grads.psi\n",
    "    model.potential .-= η .* grads.potential\n",
    "    if verbose\n",
    "        @info(\"after sgd update:\n",
    "        V'=$(round.(model.potential; digits=2))\n",
    "        ѱ'=$(round.(model.psi; digits=2))\")\n",
    "    end\n",
    "end"
   ]
  },
  {
   "cell_type": "markdown",
   "metadata": {},
   "source": [
    "#### Generate Solution"
   ]
  },
  {
   "cell_type": "code",
   "execution_count": 48,
   "metadata": {},
   "outputs": [
    {
     "name": "stderr",
     "output_type": "stream",
     "text": [
      "┌ Info: Initiate Wavefunction and Scattering Potential...\n",
      "└ @ Main In[48]:3\n"
     ]
    },
    {
     "data": {
      "text/plain": [
       "32×32 Array{Float32,2}:\n",
       " 1.40858    0.0160665  0.316703   …  2.75178    0.0960331  4.59715  \n",
       " 0.297519   1.81155    1.54355       1.22635    2.81983    0.982802 \n",
       " 0.112999   1.47522    0.389313      0.127235   4.59955    2.17123  \n",
       " 0.954316   0.354397   0.747009      0.418766   0.890391   1.03845  \n",
       " 0.397245   0.573836   3.21674       0.145867   1.23074    1.46301  \n",
       " 0.358152   1.4123     0.395335   …  3.73369    0.288685   0.525323 \n",
       " 0.0639738  0.603391   1.21483       0.486119   1.48707    0.453434 \n",
       " 0.35428    0.537524   1.23513       1.23872    0.452403   2.16012  \n",
       " 0.386799   0.752723   0.364771      2.04303    1.4828     0.584185 \n",
       " 0.746621   0.545588   1.09689       0.502964   0.674354   0.753651 \n",
       " 0.404985   1.10043    0.0338105  …  1.95003    0.688896   3.27853  \n",
       " 0.523556   0.343688   0.0941846     1.16426    0.882989   0.995786 \n",
       " 0.0572741  0.806628   0.212692      0.0709755  1.86385    0.841011 \n",
       " ⋮                                ⋱             ⋮                   \n",
       " 0.522222   0.420519   0.935443   …  1.93073    4.76862    1.01141  \n",
       " 0.390609   2.34845    1.28154       0.882146   1.64592    0.0559383\n",
       " 1.93285    1.0624     2.18348       0.265279   0.220058   9.7847   \n",
       " 0.110315   0.806989   2.21353       0.307164   2.46806    1.72829  \n",
       " 0.731599   0.0609139  0.988422      0.456831   0.161997   3.97074  \n",
       " 0.245007   1.18365    1.84301    …  3.38253    0.887565   2.097    \n",
       " 0.787321   0.180354   0.340124      0.0807053  0.58748    1.0775   \n",
       " 0.534126   0.21563    0.81062       1.02403    0.235287   0.682423 \n",
       " 0.518441   2.70747    0.0641565     0.81547    0.439741   0.967289 \n",
       " 1.30956    0.896237   0.95393       0.512521   0.928856   0.835529 \n",
       " 0.0634354  0.0104641  2.4985     …  0.43685    0.417412   0.114901 \n",
       " 0.334953   3.36641    0.711305      1.99362    1.36015    0.502293 "
      ]
     },
     "execution_count": 48,
     "metadata": {},
     "output_type": "execute_result"
    }
   ],
   "source": [
    "k_size = (32,32)\n",
    "num_slices= 2 \n",
    "@info(\"Initiate Wavefunction and Scattering Potential...\") \n",
    "psi_trg = randn(ComplexF32, k_size) \n",
    "cpy_trg = copy(psi_trg)\n",
    "V_trg = im * randn(Float32, (k_size..., num_slices)) \n",
    "MSA.multislice!(psi_trg, V_trg, 1, 1, 1)\n",
    "psi2_trg = abs2.(psi_trg)\n",
    "# @info(\"Target Values:\")\n",
    "# println(\"V=$(round.(V_trg; digits=2))\n",
    "# ѱ=$(round.(cpy_trg; digits=2))\n",
    "# psi_out = $(round.(psi2_trg; digits=2))\") "
   ]
  },
  {
   "cell_type": "code",
   "execution_count": 49,
   "metadata": {},
   "outputs": [
    {
     "data": {
      "image/png": "[encoded data removed]",
      "text/plain": [
       "Figure(PyObject <Figure size 640x480 with 2 Axes>)"
      ]
     },
     "metadata": {},
     "output_type": "display_data"
    },
    {
     "data": {
      "text/plain": [
       "PyObject <matplotlib.colorbar.Colorbar object at 0x7f5a65d14eb8>"
      ]
     },
     "execution_count": 49,
     "metadata": {},
     "output_type": "execute_result"
    }
   ],
   "source": [
    "PyPlot.jet()\n",
    "imshow(psi2_trg,interpolation=\"none\")\n",
    "colorbar()"
   ]
  },
  {
   "cell_type": "markdown",
   "metadata": {},
   "source": [
    "### Initiate Differentiable Forward Model, $\\partial F$"
   ]
  },
  {
   "cell_type": "code",
   "execution_count": 50,
   "metadata": {},
   "outputs": [
    {
     "name": "stderr",
     "output_type": "stream",
     "text": [
      "┌ Info: Initiate Forward Model...\n",
      "└ @ Main In[50]:1\n",
      "┌ Info: Initial Model Values:\n",
      "└ @ Main In[50]:6\n"
     ]
    }
   ],
   "source": [
    "@info(\"Initiate Forward Model...\")\n",
    "scale = Float32(5e-1)\n",
    "psi_in = randn(ComplexF32, size(V_trg))\n",
    "V_in = im * randn(Float32, size(V_trg))\n",
    "model = ForwardModel(psi_in, V_in, \"∂F\")\n",
    "@info(\"Initial Model Values:\")\n",
    "# print(\"V'=$(round.(model.potential; digits=2))\n",
    "# ѱ'=$(round.(model.psi; digits=2))\n",
    "# psi_out = $(round.(forward(model); digits=2))\")"
   ]
  },
  {
   "cell_type": "code",
   "execution_count": 51,
   "metadata": {},
   "outputs": [
    {
     "data": {
      "image/png": "[encoded data removed]",
      "text/plain": [
       "Figure(PyObject <Figure size 640x480 with 2 Axes>)"
      ]
     },
     "metadata": {},
     "output_type": "display_data"
    },
    {
     "data": {
      "text/plain": [
       "PyObject <matplotlib.colorbar.Colorbar object at 0x7f5a65c41630>"
      ]
     },
     "execution_count": 51,
     "metadata": {},
     "output_type": "execute_result"
    }
   ],
   "source": [
    "PyPlot.jet()\n",
    "imshow(forward(model),interpolation=\"none\")\n",
    "colorbar()"
   ]
  },
  {
   "cell_type": "code",
   "execution_count": 52,
   "metadata": {},
   "outputs": [
    {
     "name": "stderr",
     "output_type": "stream",
     "text": [
      "┌ Info: Differentiating Forward Model...\n",
      "└ @ Main In[52]:2\n"
     ]
    },
    {
     "data": {
      "text/plain": [
       "(Base.RefValue{Any}((psi = Complex{Float32}[-0.00089393463f0 - 0.019112408f0im -0.003411351f0 - 0.0066641998f0im … -4.8641516f-5 - 0.00016609022f0im 0.06955469f0 - 0.10757074f0im; -0.00035064295f0 - 0.00955873f0im -0.035833873f0 + 0.0028020283f0im … 0.059097435f0 - 0.04726886f0im 0.00025844574f0 - 0.017063066f0im; … ; -0.004085132f0 + 0.009540299f0im -0.054071177f0 + 0.07153389f0im … 4.849497f-5 - 3.266007f-5im 0.019796288f0 - 0.0076727816f0im; -0.028930847f0 + 0.028180351f0im 0.026345698f0 + 0.085782886f0im … -0.020522337f0 + 0.015891196f0im -0.020330213f0 - 0.020690324f0im]\n",
       "\n",
       "Complex{Float32}[0.0f0 + 0.0f0im 0.0f0 + 0.0f0im … 0.0f0 + 0.0f0im 0.0f0 + 0.0f0im; 0.0f0 + 0.0f0im 0.0f0 + 0.0f0im … 0.0f0 + 0.0f0im 0.0f0 + 0.0f0im; … ; 0.0f0 + 0.0f0im 0.0f0 + 0.0f0im … 0.0f0 + 0.0f0im 0.0f0 + 0.0f0im; 0.0f0 + 0.0f0im 0.0f0 + 0.0f0im … 0.0f0 + 0.0f0im 0.0f0 + 0.0f0im], potential = Complex{Float32}[-0.01886513f0 - 9.313226f-9im 0.004206607f0 + 1.3969839f-9im … -7.141134f-6 - 1.8644641f-10im -0.21843314f0 - 7.450581f-9im; 0.007284503f0 - 2.0954758f-9im -0.01894294f0 + 6.6356733f-9im … -0.08828424f0 + 1.3038516f-8im 0.019585395f0 + 9.313226f-10im; … ; 0.006745841f0 - 4.656613f-10im 0.1135377f0 - 2.2351742f-8im … -3.7681923f-5 + 5.171387f-9im 0.017633429f0 + 1.0244548f-8im; 0.0437495f0 + 3.7252903f-9im -0.06303704f0 - 1.8626451f-9im … -0.02038845f0 + 6.519258f-9im 0.030684242f0 + 7.450581f-9im]\n",
       "\n",
       "Complex{Float32}[0.0f0 + 0.0f0im 0.0f0 + 0.0f0im … 0.0f0 + 0.0f0im 0.0f0 + 0.0f0im; 0.0f0 + 0.0f0im 0.0f0 + 0.0f0im … 0.0f0 + 0.0f0im 0.0f0 + 0.0f0im; … ; 0.0f0 + 0.0f0im 0.0f0 + 0.0f0im … 0.0f0 + 0.0f0im 0.0f0 + 0.0f0im; 0.0f0 + 0.0f0im 0.0f0 + 0.0f0im … 0.0f0 + 0.0f0im 0.0f0 + 0.0f0im], name = nothing)),)"
      ]
     },
     "execution_count": 52,
     "metadata": {},
     "output_type": "execute_result"
    }
   ],
   "source": [
    "# model gradients\n",
    "@info(\"Differentiating Forward Model...\")\n",
    "grads = gradient(model) do m\n",
    "    return loss(m, psi2_trg)\n",
    "end\n",
    "# @info(\"Gradients:\")\n",
    "# println(\"\n",
    "#     ∂V=$(round.(grads.potential; digits=2))\n",
    "#     ∂ѱ=$(round.(grads.psi; digits=2))\")"
   ]
  },
  {
   "cell_type": "markdown",
   "metadata": {},
   "source": [
    "### Difference between initial $\\partial F$ and solution"
   ]
  },
  {
   "cell_type": "code",
   "execution_count": 53,
   "metadata": {},
   "outputs": [
    {
     "data": {
      "image/png": "[encoded data removed]",
      "text/plain": [
       "Figure(PyObject <Figure size 640x480 with 2 Axes>)"
      ]
     },
     "metadata": {},
     "output_type": "display_data"
    },
    {
     "data": {
      "text/plain": [
       "PyObject <matplotlib.colorbar.Colorbar object at 0x7f5a65bf1470>"
      ]
     },
     "execution_count": 53,
     "metadata": {},
     "output_type": "execute_result"
    }
   ],
   "source": [
    "PyPlot.jet()\n",
    "# imshow(imag.(model.potential[:,:,1]),interpolation=\"none\")\n",
    "# imshow(psi2_trg,interpolation=\"none\")\n",
    "imshow(abs.(forward(model).- psi2_trg)./ psi2_trg * 100, vmax=100)\n",
    "title(\"% Difference\")\n",
    "colorbar()"
   ]
  },
  {
   "cell_type": "markdown",
   "metadata": {},
   "source": [
    "### Optimize"
   ]
  },
  {
   "cell_type": "code",
   "execution_count": 54,
   "metadata": {},
   "outputs": [
    {
     "name": "stderr",
     "output_type": "stream",
     "text": [
      "┌ Info: Running train loop\n",
      "└ @ Main In[54]:2\n",
      "┌ Info: Iteration=0, Loss=44.97889\n",
      "└ @ Main In[54]:11\n",
      "┌ Info: Iteration=500, Loss=9.52846\n",
      "└ @ Main In[54]:11\n",
      "┌ Info: Iteration=1000, Loss=2.162879\n",
      "└ @ Main In[54]:11\n",
      "┌ Info: Iteration=1500, Loss=0.90934634\n",
      "└ @ Main In[54]:11\n",
      "┌ Info: Iteration=2000, Loss=0.459114\n",
      "└ @ Main In[54]:11\n",
      "┌ Info: Iteration=2500, Loss=0.24853072\n",
      "└ @ Main In[54]:11\n",
      "┌ Info: Iteration=3000, Loss=0.14111975\n",
      "└ @ Main In[54]:11\n",
      "┌ Info: Iteration=3500, Loss=0.087652504\n",
      "└ @ Main In[54]:11\n",
      "┌ Info: Iteration=4000, Loss=0.06301134\n",
      "└ @ Main In[54]:11\n",
      "┌ Info: Iteration=4500, Loss=0.052078646\n",
      "└ @ Main In[54]:11\n"
     ]
    },
    {
     "name": "stdout",
     "output_type": "stream",
     "text": [
      " 10.345850 seconds (118.19 M allocations: 7.599 GiB, 9.38% gc time)\n"
     ]
    }
   ],
   "source": [
    "opt = ADAM(1e-3)\n",
    "@info(\"Running train loop\")\n",
    "idx = 0\n",
    "loss_val = loss(model, psi2_trg)\n",
    "max_iter = 5e3\n",
    "num_logs = 10\n",
    "verbose = false\n",
    "@time while idx < max_iter && loss_val > 1e-4\n",
    "    if mod(idx, max_iter ÷ num_logs) == 0\n",
    "        Zygote.@nograd loss_val = loss(model, psi2_trg)\n",
    "        @info(\"Iteration=$(idx), Loss=$loss_val\")\n",
    "    end\n",
    "    grads= Zygote.gradient(model) do m\n",
    "        return loss(m, psi2_trg)\n",
    "    end\n",
    "    grads = grads[1][]\n",
    "#     sgd_update!(model, grads, 1e-3; verbose=false)\n",
    "    Optimise.update!(opt, model.psi, grads.psi)\n",
    "    Optimise.update!(opt, model.potential, grads.potential)\n",
    "    global idx += 1\n",
    "end\n",
    "# @info(\"Learned parameters:\n",
    "# V'=$(round.(model.potential; digits=2))\n",
    "# V=$(round.(V_trg; digits=2))\n",
    "# ѱ'=$(round.(model.psi; digits=2))\n",
    "# ѱ=$(round.(cpy_trg; digits=2))\")  "
   ]
  },
  {
   "cell_type": "markdown",
   "metadata": {},
   "source": [
    "### Difference between optimized $\\partial F$ and solution"
   ]
  },
  {
   "cell_type": "code",
   "execution_count": 55,
   "metadata": {},
   "outputs": [
    {
     "data": {
      "image/png": "[encoded data removed]",
      "text/plain": [
       "Figure(PyObject <Figure size 640x480 with 2 Axes>)"
      ]
     },
     "metadata": {},
     "output_type": "display_data"
    },
    {
     "data": {
      "text/plain": [
       "PyObject <matplotlib.colorbar.Colorbar object at 0x7f5a65b1f0b8>"
      ]
     },
     "execution_count": 55,
     "metadata": {},
     "output_type": "execute_result"
    }
   ],
   "source": [
    "PyPlot.jet()\n",
    "imshow(abs.(forward(model).- psi2_trg)./ psi2_trg * 100, vmax=1)\n",
    "title(\"% Difference\")\n",
    "colorbar()"
   ]
  },
  {
   "cell_type": "code",
   "execution_count": null,
   "metadata": {},
   "outputs": [],
   "source": []
  }
 ],
 "metadata": {
  "kernelspec": {
   "display_name": "Julia 1.3.1",
   "language": "julia",
   "name": "julia-1.3"
  },
  "language_info": {
   "file_extension": ".jl",
   "mimetype": "application/julia",
   "name": "julia",
   "version": "1.3.1"
  }
 },
 "nbformat": 4,
 "nbformat_minor": 4
}
